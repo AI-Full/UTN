{
  "nbformat": 4,
  "nbformat_minor": 0,
  "metadata": {
    "colab": {
      "provenance": []
    },
    "kernelspec": {
      "name": "python3",
      "display_name": "Python 3"
    },
    "language_info": {
      "name": "python"
    }
  },
  "cells": [
    {
      "cell_type": "markdown",
      "source": [
        "#Funciones de Activación"
      ],
      "metadata": {
        "id": "YDee22i_p7CX"
      }
    },
    {
      "cell_type": "code",
      "source": [
        "import math\n",
        "import matplotlib.pyplot as plt\n",
        "import numpy as np"
      ],
      "metadata": {
        "id": "KC9VQOFCp6DI"
      },
      "execution_count": null,
      "outputs": []
    },
    {
      "cell_type": "code",
      "source": [
        "# Constryamos un conjunto de valores espaciados uniformemente dentro de\n",
        "# un intervalo [-6, 6], con un espaciado de 0.1 entre valores:\n",
        "x = np.arange(-6, 6, 0.1)"
      ],
      "metadata": {
        "id": "kmzPGVKvqGqA"
      },
      "execution_count": null,
      "outputs": []
    },
    {
      "cell_type": "markdown",
      "source": [
        "###Linear\n",
        "\n",
        "* Tienen ciertas limitaciones en términos de capacidad de representación y  capacidad de aprendizaje.\n",
        "\n",
        "* Las funciones de activación lineales son útiles en situaciones donde se necesita una transformación lineal simple, como en modelos lineales.\n",
        "\n"
      ],
      "metadata": {
        "id": "G4nwm1Ohqu6T"
      }
    },
    {
      "cell_type": "code",
      "source": [
        "def linear(x):\n",
        "    a = []\n",
        "    for item in x:\n",
        "        a.append(item)\n",
        "    return a\n",
        "\n",
        "y = linear(x)\n",
        "\n",
        "plt.plot(x,y)\n",
        "plt.grid()\n",
        "plt.show()"
      ],
      "metadata": {
        "id": "zUvKogXvqxHo"
      },
      "execution_count": null,
      "outputs": []
    },
    {
      "cell_type": "markdown",
      "source": [
        "###Sigmoid\n",
        "\n",
        "Ventajas:\n",
        "\n",
        "*   Comprime las entradas en un rango acotado entre 0 y 1.\n",
        "*   Es diferenciable en todo su rango.\n",
        "*   Es más suave que las funciones de activación escalón o umbral.\n",
        "\n",
        "Desventajas:\n",
        "\n",
        "*   Desvanecimiento de gradientes.\n",
        "*   No está centrada en cero.\n",
        "*   Tiende a producir salidas no suficientemente esparsas.\n",
        "\n",
        "\n",
        "\n"
      ],
      "metadata": {
        "id": "emSWwqBSrCW5"
      }
    },
    {
      "cell_type": "code",
      "source": [
        "def sigmoid(x):\n",
        "    a = []\n",
        "    for item in x:\n",
        "        a.append(1/(1+math.exp(-item)))\n",
        "    return a\n",
        "\n",
        "y = sigmoid(x)\n",
        "\n",
        "plt.plot(x,y)\n",
        "plt.grid()\n",
        "plt.show()"
      ],
      "metadata": {
        "id": "EIEABpA9rDdh"
      },
      "execution_count": null,
      "outputs": []
    },
    {
      "cell_type": "markdown",
      "source": [
        "###Tanh\n",
        "\n",
        "\n",
        "1.   Salida acotada.\n",
        "2.   Transformación no lineal.\n",
        "3.   Diferenciable.\n",
        "4.   Centrada en cero.\n",
        "\n",
        "Sufre también el problema de desvancimiento de gradientes.\n"
      ],
      "metadata": {
        "id": "OLVRAJ89rK-x"
      }
    },
    {
      "cell_type": "code",
      "source": [
        "def tanh(x, derivative=False):\n",
        "    if (derivative == True):\n",
        "        return (1 - (x ** 2))\n",
        "    return np.tanh(x)\n",
        "\n",
        "y = tanh(x)\n",
        "\n",
        "plt.plot(x,y)\n",
        "plt.grid()\n",
        "plt.show()"
      ],
      "metadata": {
        "id": "9Hq4wELvrLev"
      },
      "execution_count": null,
      "outputs": []
    },
    {
      "cell_type": "markdown",
      "source": [
        "###ReLU\n",
        "\n",
        "\n",
        "1.   No linealidad.\n",
        "2.   Mitigación del desvanecimiento de gradientes.\n",
        "3.   Eficiencia computacional.\n",
        "4.   Mayor capacidad de aprendizaje.\n",
        "5.   Salidas esparsas.\n",
        "\n",
        "Pueden producir problemas en donde las neuronas pueden quedar en un estado inactivo y no aprender durante el entrenamiento.\n",
        "\n"
      ],
      "metadata": {
        "id": "LnOcvJTSrVSr"
      }
    },
    {
      "cell_type": "code",
      "source": [
        "def relu(x):\n",
        "    a = []\n",
        "    for item in x:\n",
        "        if item > 0:\n",
        "            a.append(item)\n",
        "        else:\n",
        "            a.append(0)\n",
        "    return a\n",
        "\n",
        "y = relu(x)\n",
        "\n",
        "plt.plot(x,y)\n",
        "plt.grid()\n",
        "plt.show()"
      ],
      "metadata": {
        "id": "A78cRmjZrVx8"
      },
      "execution_count": null,
      "outputs": []
    },
    {
      "cell_type": "markdown",
      "source": [
        "##Softmax\n",
        "\n",
        "Convierten un conjunto de valores en probabilidades que suman 1. Es comúnmente utilizada en la capa de salida de una red neuronal cuando se está abordando un problema de clasificación multiclase."
      ],
      "metadata": {
        "id": "Oxq-OHQXraCX"
      }
    },
    {
      "cell_type": "code",
      "source": [
        "def softmax(x):\n",
        "    e_x = np.exp(x)\n",
        "    return e_x / e_x.sum()\n",
        "\n",
        "y = softmax(x)\n",
        "\n",
        "plt.plot(x,y)\n",
        "plt.grid()\n",
        "plt.show()"
      ],
      "metadata": {
        "id": "3p8vBKG3rcEY"
      },
      "execution_count": null,
      "outputs": []
    },
    {
      "cell_type": "markdown",
      "source": [
        "#Construyendo una Red Neuronal sencilla con Keras"
      ],
      "metadata": {
        "id": "1jsrGydj5iY2"
      }
    },
    {
      "cell_type": "markdown",
      "source": [
        "Vamos a entrenar una Red Neuronal simple para una compuerta XOR, es decir, una <i>puerta lógica</i> que implementa un <i>O exclusivo</i>:\n",
        "\n",
        "![imagen.png](data:image/png;base64,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)"
      ],
      "metadata": {
        "id": "zyIEctu059Q5"
      }
    },
    {
      "cell_type": "code",
      "source": [
        "import numpy as np\n",
        "from keras.models import Sequential\n",
        "from keras.layers.core import Dense\n",
        "\n",
        "training_data = np.array([[0,0],[0,1],[1,0],[1,1]], \"float32\")\n",
        "\n",
        "target_data = np.array([[0],[1],[1],[0]], \"float32\")\n",
        "\n",
        "model = Sequential()\n",
        "model.add(Dense(16, input_dim=2, activation='relu'))\n",
        "model.add(Dense(1, activation='sigmoid'))\n",
        "\n",
        "model.compile(loss='mean_squared_error',\n",
        "              optimizer='adam',\n",
        "              metrics=['binary_accuracy'])\n",
        "\n",
        "model.fit(training_data, target_data, epochs=1000)\n",
        "\n",
        "scores = model.evaluate(training_data, target_data)\n",
        "\n",
        "print(\"\\n%s: %.2f%%\" % (model.metrics_names[1], scores[1]*100))\n",
        "print (model.predict(training_data).round())"
      ],
      "metadata": {
        "id": "TzIREkia49TZ"
      },
      "execution_count": null,
      "outputs": []
    },
    {
      "cell_type": "markdown",
      "source": [
        "La arquitectura de nuetra Red Neuronal del ejemplo es algo así:\n",
        "\n",
        "![imagen.png](data:image/png;base64,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)"
      ],
      "metadata": {
        "id": "rEdAzSP25dJh"
      }
    },
    {
      "cell_type": "markdown",
      "source": [
        "#Afinando parámetros de la red neuronal\n",
        "\n",
        "\n",
        "1.   Cantidad de capas de la red.\n",
        "2.   Cantidad de neuronas en cada capa de la red.\n",
        "3.   Funciones de activación de cada capa.\n",
        "4.   Al compilar el modelo definir las funciones de pérdida, optimización y métricas.\n",
        "5.   Cantidad de iteraciones de entrenamiento.\n",
        "\n"
      ],
      "metadata": {
        "id": "f_INCOm8EpQR"
      }
    },
    {
      "cell_type": "markdown",
      "source": [
        "#Guardando la red y usándola -de verdad-"
      ],
      "metadata": {
        "id": "3kkL6_N1Iw9q"
      }
    },
    {
      "cell_type": "code",
      "source": [
        "# serializar el modelo a JSON\n",
        "model_json = model.to_json()\n",
        "with open(\"model.json\", \"w\") as json_file:\n",
        "    json_file.write(model_json)\n",
        "# serializar los pesos a HDF5\n",
        "model.save_weights(\"model.h5\")\n",
        "print(\"Modelo Guardado!\")"
      ],
      "metadata": {
        "collapsed": true,
        "id": "yp-URJOoCQnW"
      },
      "execution_count": null,
      "outputs": []
    },
    {
      "cell_type": "code",
      "source": [
        "# mas tarde...\n",
        "from keras.models import model_from_json\n",
        "\n",
        "# cargar json y crear el modelo\n",
        "json_file = open('model.json', 'r')\n",
        "loaded_model_json = json_file.read()\n",
        "json_file.close()\n",
        "loaded_model = model_from_json(loaded_model_json)\n",
        "# cargar pesos al nuevo modelo\n",
        "loaded_model.load_weights(\"model.h5\")\n",
        "print(\"Cargado modelo desde disco.\")\n",
        "\n",
        "# Compilar modelo cargado y listo para usar.\n",
        "loaded_model.compile(loss='mean_squared_error', optimizer='adam', metrics=['binary_accuracy'])"
      ],
      "metadata": {
        "id": "hU7TbWYBGVFI"
      },
      "execution_count": null,
      "outputs": []
    },
    {
      "cell_type": "code",
      "source": [
        "loaded_model.predict([[0, 0], [1, 0]]).round()"
      ],
      "metadata": {
        "id": "tjc-ZcK_IQ7z"
      },
      "execution_count": null,
      "outputs": []
    }
  ]
}